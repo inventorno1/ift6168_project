{
 "cells": [
  {
   "cell_type": "code",
   "execution_count": 17,
   "id": "2b5e45c1",
   "metadata": {},
   "outputs": [],
   "source": [
    "import pandas as pd\n",
    "import numpy as np\n",
    "import cdt\n",
    "import networkx as nx\n",
    "import os\n",
    "\n",
    "# Importing necessary libraries"
   ]
  },
  {
   "cell_type": "code",
   "execution_count": 18,
   "id": "e06706a8",
   "metadata": {},
   "outputs": [],
   "source": [
    "data_dir = '/cim/ehoney/ift6168_project_v2/ift6168_project/data/perfect/data_p10_e10_n10000_linear_struct'"
   ]
  },
  {
   "cell_type": "markdown",
   "id": "eb9b7271",
   "metadata": {},
   "source": [
    "## Test run"
   ]
  },
  {
   "cell_type": "code",
   "execution_count": 20,
   "id": "207c762e",
   "metadata": {},
   "outputs": [],
   "source": [
    "dag_path = os.path.join(data_dir, 'DAG1.npy')\n",
    "cpdag_path = os.path.join(data_dir, 'CPDAG1.npy')\n",
    "obs_data_path = os.path.join(data_dir, 'data1.npy')\n",
    "interv_data_path = os.path.join(data_dir, 'data_interv1.npy')\n",
    "regime_idx_path = os.path.join(data_dir, 'regime1.csv')\n",
    "interv_nodes_path = os.path.join(data_dir, 'intervention1.csv')"
   ]
  },
  {
   "cell_type": "code",
   "execution_count": 25,
   "id": "95bb47ad",
   "metadata": {},
   "outputs": [
    {
     "data": {
      "text/plain": [
       "array([[0., 0., 0., 0., 1., 0., 0., 0., 0., 1.],\n",
       "       [1., 0., 0., 0., 1., 0., 0., 0., 1., 0.],\n",
       "       [0., 0., 0., 1., 0., 0., 0., 0., 0., 0.],\n",
       "       [0., 0., 0., 0., 0., 0., 0., 0., 0., 0.],\n",
       "       [0., 0., 0., 0., 0., 0., 0., 0., 0., 0.],\n",
       "       [0., 0., 0., 0., 0., 0., 0., 0., 0., 0.],\n",
       "       [0., 0., 0., 0., 1., 0., 0., 0., 0., 0.],\n",
       "       [0., 1., 0., 0., 0., 0., 0., 0., 0., 0.],\n",
       "       [0., 0., 0., 0., 0., 0., 0., 0., 0., 0.],\n",
       "       [0., 0., 0., 0., 0., 0., 0., 0., 0., 0.]])"
      ]
     },
     "execution_count": 25,
     "metadata": {},
     "output_type": "execute_result"
    }
   ],
   "source": [
    "dag = np.load(dag_path)\n",
    "dag"
   ]
  },
  {
   "cell_type": "code",
   "execution_count": 26,
   "id": "8d49712a",
   "metadata": {},
   "outputs": [
    {
     "data": {
      "text/plain": [
       "array([[0., 1., 0., 0., 1., 0., 0., 0., 0., 1.],\n",
       "       [1., 0., 0., 0., 1., 0., 0., 1., 1., 0.],\n",
       "       [0., 0., 0., 1., 0., 0., 0., 0., 0., 0.],\n",
       "       [0., 0., 1., 0., 0., 0., 0., 0., 0., 0.],\n",
       "       [0., 0., 0., 0., 0., 0., 0., 0., 0., 0.],\n",
       "       [0., 0., 0., 0., 0., 0., 0., 0., 0., 0.],\n",
       "       [0., 0., 0., 0., 1., 0., 0., 0., 0., 0.],\n",
       "       [0., 1., 0., 0., 0., 0., 0., 0., 0., 0.],\n",
       "       [0., 1., 0., 0., 0., 0., 0., 0., 0., 0.],\n",
       "       [1., 0., 0., 0., 0., 0., 0., 0., 0., 0.]])"
      ]
     },
     "execution_count": 26,
     "metadata": {},
     "output_type": "execute_result"
    }
   ],
   "source": [
    "cpdag = np.load(cpdag_path)\n",
    "cpdag"
   ]
  },
  {
   "cell_type": "code",
   "execution_count": 33,
   "id": "456dcfbf",
   "metadata": {},
   "outputs": [
    {
     "data": {
      "text/plain": [
       "array([[ 1.04549416,  1.56876855,  0.50505903, ..., -1.55214666,\n",
       "        -0.67011774, -0.95467569],\n",
       "       [ 0.83139287,  0.29945842, -0.56516481, ..., -0.82588713,\n",
       "        -1.0324189 , -0.20330703],\n",
       "       [-1.53261836, -2.29737887,  0.70926069, ...,  1.30303601,\n",
       "         2.05855852,  0.90334801],\n",
       "       ...,\n",
       "       [-1.68027651, -1.29201461,  0.36296983, ...,  0.20386925,\n",
       "         0.3136674 ,  1.03691721],\n",
       "       [ 0.73037723,  0.7762301 ,  0.5579628 , ..., -0.08943212,\n",
       "        -1.72667629, -0.31639158],\n",
       "       [-2.34830366, -2.29520103, -0.47288351, ...,  1.47536252,\n",
       "         1.07835087,  2.56914919]], shape=(10000, 10))"
      ]
     },
     "execution_count": 33,
     "metadata": {},
     "output_type": "execute_result"
    }
   ],
   "source": [
    "obs_data = np.load(obs_data_path)\n",
    "obs_data"
   ]
  },
  {
   "cell_type": "code",
   "execution_count": 29,
   "id": "4eba6582",
   "metadata": {},
   "outputs": [
    {
     "data": {
      "text/html": [
       "<div>\n",
       "<style scoped>\n",
       "    .dataframe tbody tr th:only-of-type {\n",
       "        vertical-align: middle;\n",
       "    }\n",
       "\n",
       "    .dataframe tbody tr th {\n",
       "        vertical-align: top;\n",
       "    }\n",
       "\n",
       "    .dataframe thead th {\n",
       "        text-align: right;\n",
       "    }\n",
       "</style>\n",
       "<table border=\"1\" class=\"dataframe\">\n",
       "  <thead>\n",
       "    <tr style=\"text-align: right;\">\n",
       "      <th></th>\n",
       "      <th>10</th>\n",
       "    </tr>\n",
       "  </thead>\n",
       "  <tbody>\n",
       "    <tr>\n",
       "      <th>0</th>\n",
       "      <td>10</td>\n",
       "    </tr>\n",
       "    <tr>\n",
       "      <th>1</th>\n",
       "      <td>10</td>\n",
       "    </tr>\n",
       "    <tr>\n",
       "      <th>2</th>\n",
       "      <td>10</td>\n",
       "    </tr>\n",
       "    <tr>\n",
       "      <th>3</th>\n",
       "      <td>10</td>\n",
       "    </tr>\n",
       "    <tr>\n",
       "      <th>4</th>\n",
       "      <td>10</td>\n",
       "    </tr>\n",
       "    <tr>\n",
       "      <th>...</th>\n",
       "      <td>...</td>\n",
       "    </tr>\n",
       "    <tr>\n",
       "      <th>9994</th>\n",
       "      <td>0</td>\n",
       "    </tr>\n",
       "    <tr>\n",
       "      <th>9995</th>\n",
       "      <td>0</td>\n",
       "    </tr>\n",
       "    <tr>\n",
       "      <th>9996</th>\n",
       "      <td>0</td>\n",
       "    </tr>\n",
       "    <tr>\n",
       "      <th>9997</th>\n",
       "      <td>0</td>\n",
       "    </tr>\n",
       "    <tr>\n",
       "      <th>9998</th>\n",
       "      <td>0</td>\n",
       "    </tr>\n",
       "  </tbody>\n",
       "</table>\n",
       "<p>9999 rows × 1 columns</p>\n",
       "</div>"
      ],
      "text/plain": [
       "      10\n",
       "0     10\n",
       "1     10\n",
       "2     10\n",
       "3     10\n",
       "4     10\n",
       "...   ..\n",
       "9994   0\n",
       "9995   0\n",
       "9996   0\n",
       "9997   0\n",
       "9998   0\n",
       "\n",
       "[9999 rows x 1 columns]"
      ]
     },
     "execution_count": 29,
     "metadata": {},
     "output_type": "execute_result"
    }
   ],
   "source": [
    "# Load data frame from csv regime_idx_path\n",
    "regime_df = pd.read_csv(regime_idx_path)\n",
    "regime_df"
   ]
  },
  {
   "cell_type": "code",
   "execution_count": 30,
   "id": "3851e959",
   "metadata": {},
   "outputs": [
    {
     "data": {
      "text/html": [
       "<div>\n",
       "<style scoped>\n",
       "    .dataframe tbody tr th:only-of-type {\n",
       "        vertical-align: middle;\n",
       "    }\n",
       "\n",
       "    .dataframe tbody tr th {\n",
       "        vertical-align: top;\n",
       "    }\n",
       "\n",
       "    .dataframe thead th {\n",
       "        text-align: right;\n",
       "    }\n",
       "</style>\n",
       "<table border=\"1\" class=\"dataframe\">\n",
       "  <thead>\n",
       "    <tr style=\"text-align: right;\">\n",
       "      <th></th>\n",
       "      <th>0</th>\n",
       "    </tr>\n",
       "  </thead>\n",
       "  <tbody>\n",
       "    <tr>\n",
       "      <th>0</th>\n",
       "      <td>0</td>\n",
       "    </tr>\n",
       "    <tr>\n",
       "      <th>1</th>\n",
       "      <td>0</td>\n",
       "    </tr>\n",
       "    <tr>\n",
       "      <th>2</th>\n",
       "      <td>0</td>\n",
       "    </tr>\n",
       "    <tr>\n",
       "      <th>3</th>\n",
       "      <td>0</td>\n",
       "    </tr>\n",
       "    <tr>\n",
       "      <th>4</th>\n",
       "      <td>0</td>\n",
       "    </tr>\n",
       "    <tr>\n",
       "      <th>...</th>\n",
       "      <td>...</td>\n",
       "    </tr>\n",
       "    <tr>\n",
       "      <th>9085</th>\n",
       "      <td>3</td>\n",
       "    </tr>\n",
       "    <tr>\n",
       "      <th>9086</th>\n",
       "      <td>3</td>\n",
       "    </tr>\n",
       "    <tr>\n",
       "      <th>9087</th>\n",
       "      <td>3</td>\n",
       "    </tr>\n",
       "    <tr>\n",
       "      <th>9088</th>\n",
       "      <td>3</td>\n",
       "    </tr>\n",
       "    <tr>\n",
       "      <th>9089</th>\n",
       "      <td>3</td>\n",
       "    </tr>\n",
       "  </tbody>\n",
       "</table>\n",
       "<p>9090 rows × 1 columns</p>\n",
       "</div>"
      ],
      "text/plain": [
       "      0\n",
       "0     0\n",
       "1     0\n",
       "2     0\n",
       "3     0\n",
       "4     0\n",
       "...  ..\n",
       "9085  3\n",
       "9086  3\n",
       "9087  3\n",
       "9088  3\n",
       "9089  3\n",
       "\n",
       "[9090 rows x 1 columns]"
      ]
     },
     "execution_count": 30,
     "metadata": {},
     "output_type": "execute_result"
    }
   ],
   "source": [
    "# Load data frame from csv interv_nodes_path, but load even empty rows\n",
    "# and fill them with NaN\n",
    "# Use the dtype parameter to specify the data type for each column\n",
    "interv_nodes_df = pd.read_csv(interv_nodes_path)\n",
    "interv_nodes_df"
   ]
  },
  {
   "cell_type": "code",
   "execution_count": 31,
   "id": "e8ea2ce4",
   "metadata": {},
   "outputs": [],
   "source": [
    "from causallearn.search.ConstraintBased.PC import pc\n",
    "from causallearn.utils.GraphUtils import GraphUtils\n",
    "from causallearn.utils.cit import fisherz\n",
    "import numpy as np"
   ]
  },
  {
   "cell_type": "code",
   "execution_count": 34,
   "id": "495af81a",
   "metadata": {},
   "outputs": [
    {
     "name": "stderr",
     "output_type": "stream",
     "text": [
      "Depth=3, working on node 9: 100%|██████████| 10/10 [00:00<00:00, 1096.49it/s]\n"
     ]
    }
   ],
   "source": [
    "cg = pc(obs_data)\n",
    "GraphUtils.to_pydot(cg.G).write_png(\"pc_graph.png\")"
   ]
  },
  {
   "cell_type": "code",
   "execution_count": 40,
   "id": "51008dd3",
   "metadata": {},
   "outputs": [],
   "source": [
    "def convert_cpdag_format(causal_graph):\n",
    "    \"\"\"\n",
    "    Convert the CPDAG format from CausalGraph (cg.G.graph) to an adjacency matrix format.\n",
    "    \n",
    "    Args:\n",
    "        causal_graph: A CausalGraph object with cg.G.graph as the adjacency matrix.\n",
    "    \n",
    "    Returns:\n",
    "        A NumPy adjacency matrix where:\n",
    "        - 1 represents an edge (directed or undirected).\n",
    "        - 0 represents no edge.\n",
    "    \"\"\"\n",
    "    # Extract the graph matrix\n",
    "    graph_matrix = causal_graph.G.graph\n",
    "    n = graph_matrix.shape[0]\n",
    "    \n",
    "    # Initialize the adjacency matrix\n",
    "    adjacency_matrix = np.zeros((n, n), dtype=int)\n",
    "    \n",
    "    for i in range(n):\n",
    "        for j in range(n):\n",
    "            if graph_matrix[j, i] == 1 and graph_matrix[i, j] == -1:\n",
    "                # Directed edge i -> j\n",
    "                adjacency_matrix[i, j] = 1\n",
    "            elif graph_matrix[i, j] == -1 and graph_matrix[j, i] == -1:\n",
    "                # Undirected edge i -- j\n",
    "                adjacency_matrix[i, j] = 1\n",
    "                adjacency_matrix[j, i] = 1\n",
    "            elif graph_matrix[i, j] == 1 and graph_matrix[j, i] == 1:\n",
    "                # Bidirectional edge i <-> j\n",
    "                adjacency_matrix[i, j] = 1\n",
    "                adjacency_matrix[j, i] = 1\n",
    "    \n",
    "    return adjacency_matrix"
   ]
  },
  {
   "cell_type": "code",
   "execution_count": 38,
   "id": "93b4df0a",
   "metadata": {},
   "outputs": [
    {
     "data": {
      "text/plain": [
       "array([[ 0, -1,  0,  0, -1,  0,  0,  0,  0, -1],\n",
       "       [-1,  0,  0,  0, -1,  0,  0, -1, -1,  0],\n",
       "       [ 0,  0,  0, -1,  0,  0,  0,  0,  0,  0],\n",
       "       [ 0,  0, -1,  0,  0,  0,  0,  0,  0,  0],\n",
       "       [ 1,  1,  0,  0,  0,  0,  1,  0,  0,  0],\n",
       "       [ 0,  0,  0,  0,  0,  0,  0,  0,  0,  0],\n",
       "       [ 0,  0,  0,  0, -1,  0,  0,  0,  0,  0],\n",
       "       [ 0, -1,  0,  0,  0,  0,  0,  0,  0,  0],\n",
       "       [ 0, -1,  0,  0,  0,  0,  0,  0,  0,  0],\n",
       "       [-1,  0,  0,  0,  0,  0,  0,  0,  0,  0]])"
      ]
     },
     "execution_count": 38,
     "metadata": {},
     "output_type": "execute_result"
    }
   ],
   "source": [
    "cg.G.graph"
   ]
  },
  {
   "cell_type": "code",
   "execution_count": 50,
   "id": "1f682db3",
   "metadata": {},
   "outputs": [
    {
     "data": {
      "text/plain": [
       "array([[0, 1, 0, 0, 1, 0, 0, 0, 0, 1],\n",
       "       [1, 0, 0, 0, 1, 0, 0, 1, 1, 0],\n",
       "       [0, 0, 0, 1, 0, 0, 0, 0, 0, 0],\n",
       "       [0, 0, 1, 0, 0, 0, 0, 0, 0, 0],\n",
       "       [0, 0, 0, 0, 0, 0, 0, 0, 0, 0],\n",
       "       [0, 0, 0, 0, 0, 0, 0, 0, 0, 0],\n",
       "       [0, 0, 0, 0, 1, 0, 0, 0, 0, 0],\n",
       "       [0, 1, 0, 0, 0, 0, 0, 0, 0, 0],\n",
       "       [0, 1, 0, 0, 0, 0, 0, 0, 0, 0],\n",
       "       [1, 0, 0, 0, 0, 0, 0, 0, 0, 0]])"
      ]
     },
     "execution_count": 50,
     "metadata": {},
     "output_type": "execute_result"
    }
   ],
   "source": [
    "convert_cpdag_format(cg)"
   ]
  },
  {
   "cell_type": "code",
   "execution_count": null,
   "id": "f7aaa5f9",
   "metadata": {},
   "outputs": [
    {
     "data": {
      "text/plain": [
       "numpy.ndarray"
      ]
     },
     "execution_count": 49,
     "metadata": {},
     "output_type": "execute_result"
    }
   ],
   "source": [
    "cpdag"
   ]
  },
  {
   "cell_type": "code",
   "execution_count": 54,
   "id": "39f30119",
   "metadata": {},
   "outputs": [
    {
     "name": "stdout",
     "output_type": "stream",
     "text": [
      "0\n"
     ]
    }
   ],
   "source": [
    "SHD = np.sum(convert_cpdag_format(cg) != cpdag)\n",
    "print(SHD)"
   ]
  },
  {
   "cell_type": "code",
   "execution_count": 74,
   "id": "8361246a",
   "metadata": {},
   "outputs": [
    {
     "name": "stdout",
     "output_type": "stream",
     "text": [
      "Processing data directory: /cim/ehoney/ift6168_project_v2/ift6168_project/data/perfect/data_p10_e40_n10000_nnadd_struct\n"
     ]
    },
    {
     "name": "stderr",
     "output_type": "stream",
     "text": [
      "Depth=4, working on node 9: 100%|██████████| 10/10 [00:00<00:00, 584.75it/s]\n"
     ]
    },
    {
     "name": "stdout",
     "output_type": "stream",
     "text": [
      "Dataset 1: SHD = 48\n"
     ]
    },
    {
     "name": "stderr",
     "output_type": "stream",
     "text": [
      "Depth=4, working on node 9: 100%|██████████| 10/10 [00:00<00:00, 776.15it/s]\n"
     ]
    },
    {
     "name": "stdout",
     "output_type": "stream",
     "text": [
      "Dataset 2: SHD = 50\n"
     ]
    },
    {
     "name": "stderr",
     "output_type": "stream",
     "text": [
      "Depth=4, working on node 9: 100%|██████████| 10/10 [00:00<00:00, 345.79it/s]\n"
     ]
    },
    {
     "name": "stdout",
     "output_type": "stream",
     "text": [
      "Dataset 3: SHD = 31\n"
     ]
    },
    {
     "name": "stderr",
     "output_type": "stream",
     "text": [
      "Depth=4, working on node 9: 100%|██████████| 10/10 [00:00<00:00, 716.33it/s]\n"
     ]
    },
    {
     "name": "stdout",
     "output_type": "stream",
     "text": [
      "Dataset 4: SHD = 40\n"
     ]
    },
    {
     "name": "stderr",
     "output_type": "stream",
     "text": [
      "Depth=4, working on node 9: 100%|██████████| 10/10 [00:00<00:00, 766.33it/s]\n"
     ]
    },
    {
     "name": "stdout",
     "output_type": "stream",
     "text": [
      "Dataset 5: SHD = 36\n"
     ]
    },
    {
     "name": "stderr",
     "output_type": "stream",
     "text": [
      "Depth=5, working on node 9: 100%|██████████| 10/10 [00:00<00:00, 767.06it/s]\n"
     ]
    },
    {
     "name": "stdout",
     "output_type": "stream",
     "text": [
      "Dataset 6: SHD = 54\n"
     ]
    },
    {
     "name": "stderr",
     "output_type": "stream",
     "text": [
      "Depth=5, working on node 9: 100%|██████████| 10/10 [00:00<00:00, 945.28it/s] \n"
     ]
    },
    {
     "name": "stdout",
     "output_type": "stream",
     "text": [
      "Dataset 7: SHD = 60\n"
     ]
    },
    {
     "name": "stderr",
     "output_type": "stream",
     "text": [
      "Depth=5, working on node 9: 100%|██████████| 10/10 [00:00<00:00, 864.64it/s] \n"
     ]
    },
    {
     "name": "stdout",
     "output_type": "stream",
     "text": [
      "Dataset 8: SHD = 46\n"
     ]
    },
    {
     "name": "stderr",
     "output_type": "stream",
     "text": [
      "Depth=4, working on node 9: 100%|██████████| 10/10 [00:00<00:00, 1003.49it/s]\n"
     ]
    },
    {
     "name": "stdout",
     "output_type": "stream",
     "text": [
      "Dataset 9: SHD = 44\n"
     ]
    },
    {
     "name": "stderr",
     "output_type": "stream",
     "text": [
      "Depth=4, working on node 9: 100%|██████████| 10/10 [00:00<00:00, 783.15it/s]\n"
     ]
    },
    {
     "name": "stdout",
     "output_type": "stream",
     "text": [
      "Dataset 10: SHD = 50\n",
      "Mean SHD for /cim/ehoney/ift6168_project_v2/ift6168_project/data/perfect/data_p10_e40_n10000_nnadd_struct: 45.9\n",
      "Variance of SHD for /cim/ehoney/ift6168_project_v2/ift6168_project/data/perfect/data_p10_e40_n10000_nnadd_struct: 66.09\n",
      "Processing data directory: /cim/ehoney/ift6168_project_v2/ift6168_project/data/perfect/data_p10_e10_n10000_linear_struct\n"
     ]
    },
    {
     "name": "stderr",
     "output_type": "stream",
     "text": [
      "Depth=3, working on node 9: 100%|██████████| 10/10 [00:00<00:00, 1070.69it/s]\n"
     ]
    },
    {
     "name": "stdout",
     "output_type": "stream",
     "text": [
      "Dataset 1: SHD = 0\n"
     ]
    },
    {
     "name": "stderr",
     "output_type": "stream",
     "text": [
      "Depth=2, working on node 9: 100%|██████████| 10/10 [00:00<00:00, 225.22it/s]\n"
     ]
    },
    {
     "name": "stdout",
     "output_type": "stream",
     "text": [
      "Dataset 2: SHD = 9\n"
     ]
    },
    {
     "name": "stderr",
     "output_type": "stream",
     "text": [
      "Depth=2, working on node 9: 100%|██████████| 10/10 [00:00<00:00, 943.49it/s] \n"
     ]
    },
    {
     "name": "stdout",
     "output_type": "stream",
     "text": [
      "Dataset 3: SHD = 0\n"
     ]
    },
    {
     "name": "stderr",
     "output_type": "stream",
     "text": [
      "Depth=2, working on node 9: 100%|██████████| 10/10 [00:00<00:00, 502.05it/s]\n"
     ]
    },
    {
     "name": "stdout",
     "output_type": "stream",
     "text": [
      "Dataset 4: SHD = 0\n"
     ]
    },
    {
     "name": "stderr",
     "output_type": "stream",
     "text": [
      "Depth=4, working on node 9: 100%|██████████| 10/10 [00:00<00:00, 1006.29it/s]\n"
     ]
    },
    {
     "name": "stdout",
     "output_type": "stream",
     "text": [
      "Dataset 5: SHD = 0\n"
     ]
    },
    {
     "name": "stderr",
     "output_type": "stream",
     "text": [
      "Depth=4, working on node 9: 100%|██████████| 10/10 [00:00<00:00, 917.55it/s] \n"
     ]
    },
    {
     "name": "stdout",
     "output_type": "stream",
     "text": [
      "Dataset 6: SHD = 0\n"
     ]
    },
    {
     "name": "stderr",
     "output_type": "stream",
     "text": [
      "Depth=3, working on node 9: 100%|██████████| 10/10 [00:00<00:00, 1151.17it/s]\n"
     ]
    },
    {
     "name": "stdout",
     "output_type": "stream",
     "text": [
      "Dataset 7: SHD = 0\n"
     ]
    },
    {
     "name": "stderr",
     "output_type": "stream",
     "text": [
      "Depth=3, working on node 9: 100%|██████████| 10/10 [00:00<00:00, 893.05it/s] \n"
     ]
    },
    {
     "name": "stdout",
     "output_type": "stream",
     "text": [
      "Dataset 8: SHD = 0\n"
     ]
    },
    {
     "name": "stderr",
     "output_type": "stream",
     "text": [
      "Depth=3, working on node 9: 100%|██████████| 10/10 [00:00<00:00, 1046.90it/s]\n"
     ]
    },
    {
     "name": "stdout",
     "output_type": "stream",
     "text": [
      "Dataset 9: SHD = 0\n"
     ]
    },
    {
     "name": "stderr",
     "output_type": "stream",
     "text": [
      "Depth=2, working on node 9: 100%|██████████| 10/10 [00:00<00:00, 988.92it/s] \n"
     ]
    },
    {
     "name": "stdout",
     "output_type": "stream",
     "text": [
      "Dataset 10: SHD = 0\n",
      "Mean SHD for /cim/ehoney/ift6168_project_v2/ift6168_project/data/perfect/data_p10_e10_n10000_linear_struct: 0.9\n",
      "Variance of SHD for /cim/ehoney/ift6168_project_v2/ift6168_project/data/perfect/data_p10_e10_n10000_linear_struct: 7.290000000000001\n",
      "Processing data directory: /cim/ehoney/ift6168_project_v2/ift6168_project/data/perfect/data_p20_e80_n10000_nnadd_struct\n"
     ]
    },
    {
     "name": "stderr",
     "output_type": "stream",
     "text": [
      "Depth=5, working on node 19: 100%|██████████| 20/20 [00:00<00:00, 1037.00it/s]\n"
     ]
    },
    {
     "name": "stdout",
     "output_type": "stream",
     "text": [
      "Dataset 1: SHD = 94\n"
     ]
    },
    {
     "name": "stderr",
     "output_type": "stream",
     "text": [
      "Depth=5, working on node 19: 100%|██████████| 20/20 [00:00<00:00, 1003.51it/s]\n"
     ]
    },
    {
     "name": "stdout",
     "output_type": "stream",
     "text": [
      "Dataset 2: SHD = 98\n"
     ]
    },
    {
     "name": "stderr",
     "output_type": "stream",
     "text": [
      "Depth=4, working on node 19: 100%|██████████| 20/20 [00:00<00:00, 733.80it/s] \n"
     ]
    },
    {
     "name": "stdout",
     "output_type": "stream",
     "text": [
      "Dataset 3: SHD = 91\n"
     ]
    },
    {
     "name": "stderr",
     "output_type": "stream",
     "text": [
      "Depth=5, working on node 19: 100%|██████████| 20/20 [00:00<00:00, 1247.40it/s]\n"
     ]
    },
    {
     "name": "stdout",
     "output_type": "stream",
     "text": [
      "Dataset 4: SHD = 92\n"
     ]
    },
    {
     "name": "stderr",
     "output_type": "stream",
     "text": [
      "Depth=5, working on node 19: 100%|██████████| 20/20 [00:00<00:00, 992.83it/s] \n"
     ]
    },
    {
     "name": "stdout",
     "output_type": "stream",
     "text": [
      "Dataset 5: SHD = 66\n"
     ]
    },
    {
     "name": "stderr",
     "output_type": "stream",
     "text": [
      "Depth=5, working on node 19: 100%|██████████| 20/20 [00:00<00:00, 1073.92it/s]\n"
     ]
    },
    {
     "name": "stdout",
     "output_type": "stream",
     "text": [
      "Dataset 6: SHD = 101\n"
     ]
    },
    {
     "name": "stderr",
     "output_type": "stream",
     "text": [
      "Depth=5, working on node 19: 100%|██████████| 20/20 [00:00<00:00, 1179.65it/s]\n"
     ]
    },
    {
     "name": "stdout",
     "output_type": "stream",
     "text": [
      "Dataset 7: SHD = 98\n"
     ]
    },
    {
     "name": "stderr",
     "output_type": "stream",
     "text": [
      "Depth=4, working on node 19: 100%|██████████| 20/20 [00:00<00:00, 738.30it/s]\n"
     ]
    },
    {
     "name": "stdout",
     "output_type": "stream",
     "text": [
      "Dataset 8: SHD = 79\n"
     ]
    },
    {
     "name": "stderr",
     "output_type": "stream",
     "text": [
      "Depth=5, working on node 19: 100%|██████████| 20/20 [00:00<00:00, 1174.37it/s]\n"
     ]
    },
    {
     "name": "stdout",
     "output_type": "stream",
     "text": [
      "Dataset 9: SHD = 91\n"
     ]
    },
    {
     "name": "stderr",
     "output_type": "stream",
     "text": [
      "Depth=5, working on node 19: 100%|██████████| 20/20 [00:00<00:00, 980.62it/s] \n"
     ]
    },
    {
     "name": "stdout",
     "output_type": "stream",
     "text": [
      "Dataset 10: SHD = 81\n",
      "Mean SHD for /cim/ehoney/ift6168_project_v2/ift6168_project/data/perfect/data_p20_e80_n10000_nnadd_struct: 89.1\n",
      "Variance of SHD for /cim/ehoney/ift6168_project_v2/ift6168_project/data/perfect/data_p20_e80_n10000_nnadd_struct: 104.09\n",
      "Processing data directory: /cim/ehoney/ift6168_project_v2/ift6168_project/data/perfect/data_p20_e20_n10000_linear_struct\n"
     ]
    },
    {
     "name": "stderr",
     "output_type": "stream",
     "text": [
      "Depth=4, working on node 19: 100%|██████████| 20/20 [00:00<00:00, 1204.72it/s]\n"
     ]
    },
    {
     "name": "stdout",
     "output_type": "stream",
     "text": [
      "Dataset 1: SHD = 5\n"
     ]
    },
    {
     "name": "stderr",
     "output_type": "stream",
     "text": [
      "Depth=5, working on node 19: 100%|██████████| 20/20 [00:00<00:00, 1222.63it/s]\n"
     ]
    },
    {
     "name": "stdout",
     "output_type": "stream",
     "text": [
      "Dataset 2: SHD = 4\n"
     ]
    },
    {
     "name": "stderr",
     "output_type": "stream",
     "text": [
      "Depth=2, working on node 19: 100%|██████████| 20/20 [00:00<00:00, 979.03it/s] \n"
     ]
    },
    {
     "name": "stdout",
     "output_type": "stream",
     "text": [
      "Dataset 3: SHD = 4\n"
     ]
    },
    {
     "name": "stderr",
     "output_type": "stream",
     "text": [
      "Depth=6, working on node 19: 100%|██████████| 20/20 [00:00<00:00, 1152.74it/s]\n"
     ]
    },
    {
     "name": "stdout",
     "output_type": "stream",
     "text": [
      "Dataset 4: SHD = 2\n"
     ]
    },
    {
     "name": "stderr",
     "output_type": "stream",
     "text": [
      "Depth=2, working on node 19: 100%|██████████| 20/20 [00:00<00:00, 689.52it/s]\n"
     ]
    },
    {
     "name": "stdout",
     "output_type": "stream",
     "text": [
      "Dataset 5: SHD = 0\n"
     ]
    },
    {
     "name": "stderr",
     "output_type": "stream",
     "text": [
      "Depth=5, working on node 19: 100%|██████████| 20/20 [00:00<00:00, 1215.53it/s]\n"
     ]
    },
    {
     "name": "stdout",
     "output_type": "stream",
     "text": [
      "Dataset 6: SHD = 9\n"
     ]
    },
    {
     "name": "stderr",
     "output_type": "stream",
     "text": [
      "Depth=4, working on node 19: 100%|██████████| 20/20 [00:00<00:00, 709.78it/s] \n"
     ]
    },
    {
     "name": "stdout",
     "output_type": "stream",
     "text": [
      "Dataset 7: SHD = 0\n"
     ]
    },
    {
     "name": "stderr",
     "output_type": "stream",
     "text": [
      "Depth=3, working on node 19: 100%|██████████| 20/20 [00:00<00:00, 1061.00it/s]\n"
     ]
    },
    {
     "name": "stdout",
     "output_type": "stream",
     "text": [
      "Dataset 8: SHD = 2\n"
     ]
    },
    {
     "name": "stderr",
     "output_type": "stream",
     "text": [
      "Depth=3, working on node 19: 100%|██████████| 20/20 [00:00<00:00, 1134.48it/s]\n"
     ]
    },
    {
     "name": "stdout",
     "output_type": "stream",
     "text": [
      "Dataset 9: SHD = 2\n"
     ]
    },
    {
     "name": "stderr",
     "output_type": "stream",
     "text": [
      "Depth=4, working on node 19: 100%|██████████| 20/20 [00:00<00:00, 1173.79it/s]\n"
     ]
    },
    {
     "name": "stdout",
     "output_type": "stream",
     "text": [
      "Dataset 10: SHD = 11\n",
      "Mean SHD for /cim/ehoney/ift6168_project_v2/ift6168_project/data/perfect/data_p20_e20_n10000_linear_struct: 3.9\n",
      "Variance of SHD for /cim/ehoney/ift6168_project_v2/ift6168_project/data/perfect/data_p20_e20_n10000_linear_struct: 11.889999999999999\n",
      "Processing data directory: /cim/ehoney/ift6168_project_v2/ift6168_project/data/perfect/data_p10_e10_n10000_nnadd_struct\n"
     ]
    },
    {
     "name": "stderr",
     "output_type": "stream",
     "text": [
      "Depth=3, working on node 9: 100%|██████████| 10/10 [00:00<00:00, 800.97it/s] \n"
     ]
    },
    {
     "name": "stdout",
     "output_type": "stream",
     "text": [
      "Dataset 1: SHD = 7\n"
     ]
    },
    {
     "name": "stderr",
     "output_type": "stream",
     "text": [
      "Depth=4, working on node 9: 100%|██████████| 10/10 [00:00<00:00, 1018.21it/s]\n"
     ]
    },
    {
     "name": "stdout",
     "output_type": "stream",
     "text": [
      "Dataset 2: SHD = 14\n"
     ]
    },
    {
     "name": "stderr",
     "output_type": "stream",
     "text": [
      "Depth=3, working on node 9: 100%|██████████| 10/10 [00:00<00:00, 505.94it/s]\n"
     ]
    },
    {
     "name": "stdout",
     "output_type": "stream",
     "text": [
      "Dataset 3: SHD = 13\n"
     ]
    },
    {
     "name": "stderr",
     "output_type": "stream",
     "text": [
      "Depth=5, working on node 9: 100%|██████████| 10/10 [00:00<00:00, 984.65it/s] \n"
     ]
    },
    {
     "name": "stdout",
     "output_type": "stream",
     "text": [
      "Dataset 4: SHD = 6\n"
     ]
    },
    {
     "name": "stderr",
     "output_type": "stream",
     "text": [
      "Depth=4, working on node 9: 100%|██████████| 10/10 [00:00<00:00, 878.17it/s] "
     ]
    },
    {
     "name": "stdout",
     "output_type": "stream",
     "text": [
      "Dataset 5: SHD = 12\n"
     ]
    },
    {
     "name": "stderr",
     "output_type": "stream",
     "text": [
      "\n",
      "Depth=4, working on node 9: 100%|██████████| 10/10 [00:00<00:00, 919.26it/s] \n"
     ]
    },
    {
     "name": "stdout",
     "output_type": "stream",
     "text": [
      "Dataset 6: SHD = 15\n"
     ]
    },
    {
     "name": "stderr",
     "output_type": "stream",
     "text": [
      "Depth=4, working on node 9: 100%|██████████| 10/10 [00:00<00:00, 1040.00it/s]\n"
     ]
    },
    {
     "name": "stdout",
     "output_type": "stream",
     "text": [
      "Dataset 7: SHD = 0\n"
     ]
    },
    {
     "name": "stderr",
     "output_type": "stream",
     "text": [
      "Depth=4, working on node 9: 100%|██████████| 10/10 [00:00<00:00, 608.65it/s]\n"
     ]
    },
    {
     "name": "stdout",
     "output_type": "stream",
     "text": [
      "Dataset 8: SHD = 27\n"
     ]
    },
    {
     "name": "stderr",
     "output_type": "stream",
     "text": [
      "Depth=4, working on node 9: 100%|██████████| 10/10 [00:00<00:00, 836.85it/s] \n"
     ]
    },
    {
     "name": "stdout",
     "output_type": "stream",
     "text": [
      "Dataset 9: SHD = 13\n"
     ]
    },
    {
     "name": "stderr",
     "output_type": "stream",
     "text": [
      "Depth=4, working on node 9: 100%|██████████| 10/10 [00:00<00:00, 1006.00it/s]\n"
     ]
    },
    {
     "name": "stdout",
     "output_type": "stream",
     "text": [
      "Dataset 10: SHD = 8\n",
      "Mean SHD for /cim/ehoney/ift6168_project_v2/ift6168_project/data/perfect/data_p10_e10_n10000_nnadd_struct: 11.5\n",
      "Variance of SHD for /cim/ehoney/ift6168_project_v2/ift6168_project/data/perfect/data_p10_e10_n10000_nnadd_struct: 45.85\n",
      "Processing data directory: /cim/ehoney/ift6168_project_v2/ift6168_project/data/perfect/data_p10_e40_n10000_nn_struct\n"
     ]
    },
    {
     "name": "stderr",
     "output_type": "stream",
     "text": [
      "Depth=4, working on node 9: 100%|██████████| 10/10 [00:00<00:00, 889.57it/s] \n"
     ]
    },
    {
     "name": "stdout",
     "output_type": "stream",
     "text": [
      "Dataset 1: SHD = 44\n"
     ]
    },
    {
     "name": "stderr",
     "output_type": "stream",
     "text": [
      "Depth=5, working on node 9: 100%|██████████| 10/10 [00:00<00:00, 894.40it/s] \n"
     ]
    },
    {
     "name": "stdout",
     "output_type": "stream",
     "text": [
      "Dataset 2: SHD = 41\n"
     ]
    },
    {
     "name": "stderr",
     "output_type": "stream",
     "text": [
      "Depth=5, working on node 9: 100%|██████████| 10/10 [00:00<00:00, 892.61it/s] \n"
     ]
    },
    {
     "name": "stdout",
     "output_type": "stream",
     "text": [
      "Dataset 3: SHD = 60\n"
     ]
    },
    {
     "name": "stderr",
     "output_type": "stream",
     "text": [
      "Depth=4, working on node 9: 100%|██████████| 10/10 [00:00<00:00, 946.48it/s] \n"
     ]
    },
    {
     "name": "stdout",
     "output_type": "stream",
     "text": [
      "Dataset 4: SHD = 44\n"
     ]
    },
    {
     "name": "stderr",
     "output_type": "stream",
     "text": [
      "Depth=5, working on node 9: 100%|██████████| 10/10 [00:00<00:00, 818.51it/s]\n"
     ]
    },
    {
     "name": "stdout",
     "output_type": "stream",
     "text": [
      "Dataset 5: SHD = 57\n"
     ]
    },
    {
     "name": "stderr",
     "output_type": "stream",
     "text": [
      "Depth=5, working on node 9: 100%|██████████| 10/10 [00:00<00:00, 798.46it/s]\n"
     ]
    },
    {
     "name": "stdout",
     "output_type": "stream",
     "text": [
      "Dataset 6: SHD = 43\n"
     ]
    },
    {
     "name": "stderr",
     "output_type": "stream",
     "text": [
      "Depth=4, working on node 9: 100%|██████████| 10/10 [00:00<00:00, 523.75it/s]\n"
     ]
    },
    {
     "name": "stdout",
     "output_type": "stream",
     "text": [
      "Dataset 7: SHD = 55\n"
     ]
    },
    {
     "name": "stderr",
     "output_type": "stream",
     "text": [
      "Depth=5, working on node 9: 100%|██████████| 10/10 [00:00<00:00, 838.68it/s]\n"
     ]
    },
    {
     "name": "stdout",
     "output_type": "stream",
     "text": [
      "Dataset 8: SHD = 51\n"
     ]
    },
    {
     "name": "stderr",
     "output_type": "stream",
     "text": [
      "Depth=4, working on node 9: 100%|██████████| 10/10 [00:00<00:00, 867.36it/s] \n"
     ]
    },
    {
     "name": "stdout",
     "output_type": "stream",
     "text": [
      "Dataset 9: SHD = 67\n"
     ]
    },
    {
     "name": "stderr",
     "output_type": "stream",
     "text": [
      "Depth=4, working on node 9: 100%|██████████| 10/10 [00:00<00:00, 556.83it/s]\n"
     ]
    },
    {
     "name": "stdout",
     "output_type": "stream",
     "text": [
      "Dataset 10: SHD = 57\n",
      "Mean SHD for /cim/ehoney/ift6168_project_v2/ift6168_project/data/perfect/data_p10_e40_n10000_nn_struct: 51.9\n",
      "Variance of SHD for /cim/ehoney/ift6168_project_v2/ift6168_project/data/perfect/data_p10_e40_n10000_nn_struct: 67.89\n",
      "Processing data directory: /cim/ehoney/ift6168_project_v2/ift6168_project/data/perfect/data_p20_e20_n10000_nn_struct\n"
     ]
    },
    {
     "name": "stderr",
     "output_type": "stream",
     "text": [
      "Depth=6, working on node 19: 100%|██████████| 20/20 [00:00<00:00, 1205.64it/s]\n"
     ]
    },
    {
     "name": "stdout",
     "output_type": "stream",
     "text": [
      "Dataset 1: SHD = 9\n"
     ]
    },
    {
     "name": "stderr",
     "output_type": "stream",
     "text": [
      "Depth=4, working on node 19: 100%|██████████| 20/20 [00:00<00:00, 955.49it/s] \n"
     ]
    },
    {
     "name": "stdout",
     "output_type": "stream",
     "text": [
      "Dataset 2: SHD = 27\n"
     ]
    },
    {
     "name": "stderr",
     "output_type": "stream",
     "text": [
      "Depth=5, working on node 19: 100%|██████████| 20/20 [00:00<00:00, 1142.19it/s]\n"
     ]
    },
    {
     "name": "stdout",
     "output_type": "stream",
     "text": [
      "Dataset 3: SHD = 19\n"
     ]
    },
    {
     "name": "stderr",
     "output_type": "stream",
     "text": [
      "Depth=5, working on node 19: 100%|██████████| 20/20 [00:00<00:00, 1166.02it/s]\n"
     ]
    },
    {
     "name": "stdout",
     "output_type": "stream",
     "text": [
      "Dataset 4: SHD = 16\n"
     ]
    },
    {
     "name": "stderr",
     "output_type": "stream",
     "text": [
      "Depth=4, working on node 19: 100%|██████████| 20/20 [00:00<00:00, 876.26it/s] \n"
     ]
    },
    {
     "name": "stdout",
     "output_type": "stream",
     "text": [
      "Dataset 5: SHD = 19\n"
     ]
    },
    {
     "name": "stderr",
     "output_type": "stream",
     "text": [
      "Depth=6, working on node 19: 100%|██████████| 20/20 [00:00<00:00, 1196.44it/s]\n"
     ]
    },
    {
     "name": "stdout",
     "output_type": "stream",
     "text": [
      "Dataset 6: SHD = 15\n"
     ]
    },
    {
     "name": "stderr",
     "output_type": "stream",
     "text": [
      "Depth=4, working on node 19: 100%|██████████| 20/20 [00:00<00:00, 929.09it/s] \n"
     ]
    },
    {
     "name": "stdout",
     "output_type": "stream",
     "text": [
      "Dataset 7: SHD = 24\n"
     ]
    },
    {
     "name": "stderr",
     "output_type": "stream",
     "text": [
      "Depth=5, working on node 19: 100%|██████████| 20/20 [00:00<00:00, 1008.63it/s]\n"
     ]
    },
    {
     "name": "stdout",
     "output_type": "stream",
     "text": [
      "Dataset 8: SHD = 17\n"
     ]
    },
    {
     "name": "stderr",
     "output_type": "stream",
     "text": [
      "Depth=5, working on node 19: 100%|██████████| 20/20 [00:00<00:00, 1166.53it/s]\n"
     ]
    },
    {
     "name": "stdout",
     "output_type": "stream",
     "text": [
      "Dataset 9: SHD = 9\n"
     ]
    },
    {
     "name": "stderr",
     "output_type": "stream",
     "text": [
      "Depth=5, working on node 19: 100%|██████████| 20/20 [00:00<00:00, 1237.81it/s]\n"
     ]
    },
    {
     "name": "stdout",
     "output_type": "stream",
     "text": [
      "Dataset 10: SHD = 13\n",
      "Mean SHD for /cim/ehoney/ift6168_project_v2/ift6168_project/data/perfect/data_p20_e20_n10000_nn_struct: 16.8\n",
      "Variance of SHD for /cim/ehoney/ift6168_project_v2/ift6168_project/data/perfect/data_p20_e20_n10000_nn_struct: 30.559999999999995\n",
      "Processing data directory: /cim/ehoney/ift6168_project_v2/ift6168_project/data/perfect/data_p20_e80_n10000_nn_struct\n"
     ]
    },
    {
     "name": "stderr",
     "output_type": "stream",
     "text": [
      "Depth=5, working on node 19: 100%|██████████| 20/20 [00:00<00:00, 1143.72it/s]\n"
     ]
    },
    {
     "name": "stdout",
     "output_type": "stream",
     "text": [
      "Dataset 1: SHD = 94\n"
     ]
    },
    {
     "name": "stderr",
     "output_type": "stream",
     "text": [
      "Depth=4, working on node 19: 100%|██████████| 20/20 [00:00<00:00, 918.02it/s] \n"
     ]
    },
    {
     "name": "stdout",
     "output_type": "stream",
     "text": [
      "Dataset 2: SHD = 89\n"
     ]
    },
    {
     "name": "stderr",
     "output_type": "stream",
     "text": [
      "Depth=5, working on node 19: 100%|██████████| 20/20 [00:00<00:00, 988.71it/s] \n"
     ]
    },
    {
     "name": "stdout",
     "output_type": "stream",
     "text": [
      "Dataset 3: SHD = 67\n"
     ]
    },
    {
     "name": "stderr",
     "output_type": "stream",
     "text": [
      "Depth=5, working on node 19: 100%|██████████| 20/20 [00:00<00:00, 1149.77it/s]\n"
     ]
    },
    {
     "name": "stdout",
     "output_type": "stream",
     "text": [
      "Dataset 4: SHD = 91\n"
     ]
    },
    {
     "name": "stderr",
     "output_type": "stream",
     "text": [
      "Depth=4, working on node 19: 100%|██████████| 20/20 [00:00<00:00, 709.77it/s] \n"
     ]
    },
    {
     "name": "stdout",
     "output_type": "stream",
     "text": [
      "Dataset 5: SHD = 111\n"
     ]
    },
    {
     "name": "stderr",
     "output_type": "stream",
     "text": [
      "Depth=5, working on node 19: 100%|██████████| 20/20 [00:00<00:00, 1039.61it/s]\n"
     ]
    },
    {
     "name": "stdout",
     "output_type": "stream",
     "text": [
      "Dataset 6: SHD = 81\n"
     ]
    },
    {
     "name": "stderr",
     "output_type": "stream",
     "text": [
      "Depth=5, working on node 19: 100%|██████████| 20/20 [00:00<00:00, 1020.54it/s]\n"
     ]
    },
    {
     "name": "stdout",
     "output_type": "stream",
     "text": [
      "Dataset 7: SHD = 84\n"
     ]
    },
    {
     "name": "stderr",
     "output_type": "stream",
     "text": [
      "Depth=5, working on node 19: 100%|██████████| 20/20 [00:00<00:00, 1168.66it/s]\n"
     ]
    },
    {
     "name": "stdout",
     "output_type": "stream",
     "text": [
      "Dataset 8: SHD = 105\n"
     ]
    },
    {
     "name": "stderr",
     "output_type": "stream",
     "text": [
      "Depth=5, working on node 19: 100%|██████████| 20/20 [00:00<00:00, 990.94it/s] \n"
     ]
    },
    {
     "name": "stdout",
     "output_type": "stream",
     "text": [
      "Dataset 9: SHD = 91\n"
     ]
    },
    {
     "name": "stderr",
     "output_type": "stream",
     "text": [
      "Depth=5, working on node 19: 100%|██████████| 20/20 [00:00<00:00, 1003.79it/s]\n"
     ]
    },
    {
     "name": "stdout",
     "output_type": "stream",
     "text": [
      "Dataset 10: SHD = 80\n",
      "Mean SHD for /cim/ehoney/ift6168_project_v2/ift6168_project/data/perfect/data_p20_e80_n10000_nn_struct: 89.3\n",
      "Variance of SHD for /cim/ehoney/ift6168_project_v2/ift6168_project/data/perfect/data_p20_e80_n10000_nn_struct: 142.61\n",
      "Processing data directory: /cim/ehoney/ift6168_project_v2/ift6168_project/data/perfect/data_p10_e40_n10000_linear_struct\n"
     ]
    },
    {
     "name": "stderr",
     "output_type": "stream",
     "text": [
      "Depth=5, working on node 9: 100%|██████████| 10/10 [00:00<00:00, 534.74it/s]\n"
     ]
    },
    {
     "name": "stdout",
     "output_type": "stream",
     "text": [
      "Dataset 1: SHD = 40\n"
     ]
    },
    {
     "name": "stderr",
     "output_type": "stream",
     "text": [
      "Depth=5, working on node 9: 100%|██████████| 10/10 [00:00<00:00, 941.29it/s] \n"
     ]
    },
    {
     "name": "stdout",
     "output_type": "stream",
     "text": [
      "Dataset 2: SHD = 44\n"
     ]
    },
    {
     "name": "stderr",
     "output_type": "stream",
     "text": [
      "Depth=4, working on node 9: 100%|██████████| 10/10 [00:00<00:00, 842.23it/s]\n"
     ]
    },
    {
     "name": "stdout",
     "output_type": "stream",
     "text": [
      "Dataset 3: SHD = 42\n"
     ]
    },
    {
     "name": "stderr",
     "output_type": "stream",
     "text": [
      "Depth=4, working on node 9: 100%|██████████| 10/10 [00:00<00:00, 636.86it/s]\n"
     ]
    },
    {
     "name": "stdout",
     "output_type": "stream",
     "text": [
      "Dataset 4: SHD = 50\n"
     ]
    },
    {
     "name": "stderr",
     "output_type": "stream",
     "text": [
      "Depth=4, working on node 9: 100%|██████████| 10/10 [00:00<00:00, 754.75it/s]\n"
     ]
    },
    {
     "name": "stdout",
     "output_type": "stream",
     "text": [
      "Dataset 5: SHD = 43\n"
     ]
    },
    {
     "name": "stderr",
     "output_type": "stream",
     "text": [
      "Depth=5, working on node 9: 100%|██████████| 10/10 [00:00<00:00, 713.78it/s]\n"
     ]
    },
    {
     "name": "stdout",
     "output_type": "stream",
     "text": [
      "Dataset 6: SHD = 56\n"
     ]
    },
    {
     "name": "stderr",
     "output_type": "stream",
     "text": [
      "Depth=4, working on node 9: 100%|██████████| 10/10 [00:00<00:00, 759.60it/s]\n"
     ]
    },
    {
     "name": "stdout",
     "output_type": "stream",
     "text": [
      "Dataset 7: SHD = 55\n"
     ]
    },
    {
     "name": "stderr",
     "output_type": "stream",
     "text": [
      "Depth=4, working on node 9: 100%|██████████| 10/10 [00:00<00:00, 1012.65it/s]\n"
     ]
    },
    {
     "name": "stdout",
     "output_type": "stream",
     "text": [
      "Dataset 8: SHD = 43\n"
     ]
    },
    {
     "name": "stderr",
     "output_type": "stream",
     "text": [
      "Depth=4, working on node 9: 100%|██████████| 10/10 [00:00<00:00, 828.05it/s]\n"
     ]
    },
    {
     "name": "stdout",
     "output_type": "stream",
     "text": [
      "Dataset 9: SHD = 43\n"
     ]
    },
    {
     "name": "stderr",
     "output_type": "stream",
     "text": [
      "Depth=4, working on node 9: 100%|██████████| 10/10 [00:00<00:00, 575.15it/s]\n"
     ]
    },
    {
     "name": "stdout",
     "output_type": "stream",
     "text": [
      "Dataset 10: SHD = 38\n",
      "Mean SHD for /cim/ehoney/ift6168_project_v2/ift6168_project/data/perfect/data_p10_e40_n10000_linear_struct: 45.4\n",
      "Variance of SHD for /cim/ehoney/ift6168_project_v2/ift6168_project/data/perfect/data_p10_e40_n10000_linear_struct: 34.04\n",
      "Processing data directory: /cim/ehoney/ift6168_project_v2/ift6168_project/data/perfect/data_p20_e80_n10000_linear_struct\n"
     ]
    },
    {
     "name": "stderr",
     "output_type": "stream",
     "text": [
      "Depth=5, working on node 19: 100%|██████████| 20/20 [00:00<00:00, 1129.87it/s]\n"
     ]
    },
    {
     "name": "stdout",
     "output_type": "stream",
     "text": [
      "Dataset 1: SHD = 79\n"
     ]
    },
    {
     "name": "stderr",
     "output_type": "stream",
     "text": [
      "Depth=5, working on node 19: 100%|██████████| 20/20 [00:00<00:00, 1065.42it/s]\n"
     ]
    },
    {
     "name": "stdout",
     "output_type": "stream",
     "text": [
      "Dataset 2: SHD = 103\n"
     ]
    },
    {
     "name": "stderr",
     "output_type": "stream",
     "text": [
      "Depth=5, working on node 19: 100%|██████████| 20/20 [00:00<00:00, 1080.28it/s]\n"
     ]
    },
    {
     "name": "stdout",
     "output_type": "stream",
     "text": [
      "Dataset 3: SHD = 72\n"
     ]
    },
    {
     "name": "stderr",
     "output_type": "stream",
     "text": [
      "Depth=5, working on node 19: 100%|██████████| 20/20 [00:00<00:00, 1106.31it/s]\n"
     ]
    },
    {
     "name": "stdout",
     "output_type": "stream",
     "text": [
      "Dataset 4: SHD = 91\n"
     ]
    },
    {
     "name": "stderr",
     "output_type": "stream",
     "text": [
      "Depth=5, working on node 19: 100%|██████████| 20/20 [00:00<00:00, 1059.72it/s]\n"
     ]
    },
    {
     "name": "stdout",
     "output_type": "stream",
     "text": [
      "Dataset 5: SHD = 89\n"
     ]
    },
    {
     "name": "stderr",
     "output_type": "stream",
     "text": [
      "Depth=5, working on node 19: 100%|██████████| 20/20 [00:00<00:00, 1090.79it/s]\n"
     ]
    },
    {
     "name": "stdout",
     "output_type": "stream",
     "text": [
      "Dataset 6: SHD = 102\n"
     ]
    },
    {
     "name": "stderr",
     "output_type": "stream",
     "text": [
      "Depth=5, working on node 19: 100%|██████████| 20/20 [00:00<00:00, 1029.34it/s]\n"
     ]
    },
    {
     "name": "stdout",
     "output_type": "stream",
     "text": [
      "Dataset 7: SHD = 84\n"
     ]
    },
    {
     "name": "stderr",
     "output_type": "stream",
     "text": [
      "Depth=5, working on node 19: 100%|██████████| 20/20 [00:00<00:00, 1076.51it/s]\n"
     ]
    },
    {
     "name": "stdout",
     "output_type": "stream",
     "text": [
      "Dataset 8: SHD = 93\n"
     ]
    },
    {
     "name": "stderr",
     "output_type": "stream",
     "text": [
      "Depth=5, working on node 19: 100%|██████████| 20/20 [00:00<00:00, 1036.50it/s]\n"
     ]
    },
    {
     "name": "stdout",
     "output_type": "stream",
     "text": [
      "Dataset 9: SHD = 92\n"
     ]
    },
    {
     "name": "stderr",
     "output_type": "stream",
     "text": [
      "Depth=4, working on node 19: 100%|██████████| 20/20 [00:00<00:00, 837.33it/s]\n"
     ]
    },
    {
     "name": "stdout",
     "output_type": "stream",
     "text": [
      "Dataset 10: SHD = 96\n",
      "Mean SHD for /cim/ehoney/ift6168_project_v2/ift6168_project/data/perfect/data_p20_e80_n10000_linear_struct: 90.1\n",
      "Variance of SHD for /cim/ehoney/ift6168_project_v2/ift6168_project/data/perfect/data_p20_e80_n10000_linear_struct: 84.48999999999998\n",
      "Processing data directory: /cim/ehoney/ift6168_project_v2/ift6168_project/data/perfect/data_p20_e20_n10000_nnadd_struct\n"
     ]
    },
    {
     "name": "stderr",
     "output_type": "stream",
     "text": [
      "Depth=5, working on node 19: 100%|██████████| 20/20 [00:00<00:00, 1180.26it/s]\n"
     ]
    },
    {
     "name": "stdout",
     "output_type": "stream",
     "text": [
      "Dataset 1: SHD = 21\n"
     ]
    },
    {
     "name": "stderr",
     "output_type": "stream",
     "text": [
      "Depth=6, working on node 19: 100%|██████████| 20/20 [00:00<00:00, 1102.39it/s]\n"
     ]
    },
    {
     "name": "stdout",
     "output_type": "stream",
     "text": [
      "Dataset 2: SHD = 38\n"
     ]
    },
    {
     "name": "stderr",
     "output_type": "stream",
     "text": [
      "Depth=4, working on node 19: 100%|██████████| 20/20 [00:00<00:00, 703.00it/s]\n"
     ]
    },
    {
     "name": "stdout",
     "output_type": "stream",
     "text": [
      "Dataset 3: SHD = 31\n"
     ]
    },
    {
     "name": "stderr",
     "output_type": "stream",
     "text": [
      "Depth=4, working on node 19: 100%|██████████| 20/20 [00:00<00:00, 1200.17it/s]\n"
     ]
    },
    {
     "name": "stdout",
     "output_type": "stream",
     "text": [
      "Dataset 4: SHD = 20\n"
     ]
    },
    {
     "name": "stderr",
     "output_type": "stream",
     "text": [
      "Depth=5, working on node 19: 100%|██████████| 20/20 [00:00<00:00, 1113.29it/s]\n"
     ]
    },
    {
     "name": "stdout",
     "output_type": "stream",
     "text": [
      "Dataset 5: SHD = 29\n"
     ]
    },
    {
     "name": "stderr",
     "output_type": "stream",
     "text": [
      "Depth=3, working on node 19: 100%|██████████| 20/20 [00:00<00:00, 1151.22it/s]\n"
     ]
    },
    {
     "name": "stdout",
     "output_type": "stream",
     "text": [
      "Dataset 6: SHD = 14\n"
     ]
    },
    {
     "name": "stderr",
     "output_type": "stream",
     "text": [
      "Depth=6, working on node 19: 100%|██████████| 20/20 [00:00<00:00, 1120.00it/s]\n"
     ]
    },
    {
     "name": "stdout",
     "output_type": "stream",
     "text": [
      "Dataset 7: SHD = 35\n"
     ]
    },
    {
     "name": "stderr",
     "output_type": "stream",
     "text": [
      "Depth=5, working on node 19: 100%|██████████| 20/20 [00:00<00:00, 1079.43it/s]\n"
     ]
    },
    {
     "name": "stdout",
     "output_type": "stream",
     "text": [
      "Dataset 8: SHD = 31\n"
     ]
    },
    {
     "name": "stderr",
     "output_type": "stream",
     "text": [
      "Depth=6, working on node 19: 100%|██████████| 20/20 [00:00<00:00, 1312.07it/s]\n"
     ]
    },
    {
     "name": "stdout",
     "output_type": "stream",
     "text": [
      "Dataset 9: SHD = 32\n"
     ]
    },
    {
     "name": "stderr",
     "output_type": "stream",
     "text": [
      "Depth=3, working on node 19: 100%|██████████| 20/20 [00:00<00:00, 1211.74it/s]\n"
     ]
    },
    {
     "name": "stdout",
     "output_type": "stream",
     "text": [
      "Dataset 10: SHD = 10\n",
      "Mean SHD for /cim/ehoney/ift6168_project_v2/ift6168_project/data/perfect/data_p20_e20_n10000_nnadd_struct: 26.1\n",
      "Variance of SHD for /cim/ehoney/ift6168_project_v2/ift6168_project/data/perfect/data_p20_e20_n10000_nnadd_struct: 78.09\n",
      "Processing data directory: /cim/ehoney/ift6168_project_v2/ift6168_project/data/perfect/data_p10_e10_n10000_nn_struct\n"
     ]
    },
    {
     "name": "stderr",
     "output_type": "stream",
     "text": [
      "Depth=4, working on node 9: 100%|██████████| 10/10 [00:00<00:00, 1055.33it/s]\n"
     ]
    },
    {
     "name": "stdout",
     "output_type": "stream",
     "text": [
      "Dataset 1: SHD = 4\n"
     ]
    },
    {
     "name": "stderr",
     "output_type": "stream",
     "text": [
      "Depth=4, working on node 9: 100%|██████████| 10/10 [00:00<00:00, 835.42it/s]\n"
     ]
    },
    {
     "name": "stdout",
     "output_type": "stream",
     "text": [
      "Dataset 2: SHD = 13\n"
     ]
    },
    {
     "name": "stderr",
     "output_type": "stream",
     "text": [
      "Depth=4, working on node 9: 100%|██████████| 10/10 [00:00<00:00, 920.57it/s] \n"
     ]
    },
    {
     "name": "stdout",
     "output_type": "stream",
     "text": [
      "Dataset 3: SHD = 8\n"
     ]
    },
    {
     "name": "stderr",
     "output_type": "stream",
     "text": [
      "Depth=5, working on node 9: 100%|██████████| 10/10 [00:00<00:00, 952.51it/s] \n"
     ]
    },
    {
     "name": "stdout",
     "output_type": "stream",
     "text": [
      "Dataset 4: SHD = 11\n"
     ]
    },
    {
     "name": "stderr",
     "output_type": "stream",
     "text": [
      "Depth=4, working on node 9: 100%|██████████| 10/10 [00:00<00:00, 970.03it/s] \n"
     ]
    },
    {
     "name": "stdout",
     "output_type": "stream",
     "text": [
      "Dataset 5: SHD = 2\n"
     ]
    },
    {
     "name": "stderr",
     "output_type": "stream",
     "text": [
      "Depth=4, working on node 9: 100%|██████████| 10/10 [00:00<00:00, 896.12it/s] \n"
     ]
    },
    {
     "name": "stdout",
     "output_type": "stream",
     "text": [
      "Dataset 6: SHD = 3\n"
     ]
    },
    {
     "name": "stderr",
     "output_type": "stream",
     "text": [
      "Depth=4, working on node 9: 100%|██████████| 10/10 [00:00<00:00, 858.43it/s] \n"
     ]
    },
    {
     "name": "stdout",
     "output_type": "stream",
     "text": [
      "Dataset 7: SHD = 16\n"
     ]
    },
    {
     "name": "stderr",
     "output_type": "stream",
     "text": [
      "Depth=3, working on node 9: 100%|██████████| 10/10 [00:00<00:00, 987.78it/s] \n"
     ]
    },
    {
     "name": "stdout",
     "output_type": "stream",
     "text": [
      "Dataset 8: SHD = 5\n"
     ]
    },
    {
     "name": "stderr",
     "output_type": "stream",
     "text": [
      "Depth=2, working on node 9: 100%|██████████| 10/10 [00:00<00:00, 1128.71it/s]\n"
     ]
    },
    {
     "name": "stdout",
     "output_type": "stream",
     "text": [
      "Dataset 9: SHD = 1\n"
     ]
    },
    {
     "name": "stderr",
     "output_type": "stream",
     "text": [
      "Depth=4, working on node 9: 100%|██████████| 10/10 [00:00<00:00, 1015.52it/s]\n"
     ]
    },
    {
     "name": "stdout",
     "output_type": "stream",
     "text": [
      "Dataset 10: SHD = 13\n",
      "Mean SHD for /cim/ehoney/ift6168_project_v2/ift6168_project/data/perfect/data_p10_e10_n10000_nn_struct: 7.6\n",
      "Variance of SHD for /cim/ehoney/ift6168_project_v2/ift6168_project/data/perfect/data_p10_e10_n10000_nn_struct: 25.639999999999997\n",
      "SHD Statistics per Data Directory:\n",
      "{'/cim/ehoney/ift6168_project_v2/ift6168_project/data/perfect/data_p10_e40_n10000_nnadd_struct': {'shd_values': [np.int64(48), np.int64(50), np.int64(31), np.int64(40), np.int64(36), np.int64(54), np.int64(60), np.int64(46), np.int64(44), np.int64(50)], 'mean_shd': np.float64(45.9), 'variance_shd': np.float64(66.09)}, '/cim/ehoney/ift6168_project_v2/ift6168_project/data/perfect/data_p10_e10_n10000_linear_struct': {'shd_values': [np.int64(0), np.int64(9), np.int64(0), np.int64(0), np.int64(0), np.int64(0), np.int64(0), np.int64(0), np.int64(0), np.int64(0)], 'mean_shd': np.float64(0.9), 'variance_shd': np.float64(7.290000000000001)}, '/cim/ehoney/ift6168_project_v2/ift6168_project/data/perfect/data_p20_e80_n10000_nnadd_struct': {'shd_values': [np.int64(94), np.int64(98), np.int64(91), np.int64(92), np.int64(66), np.int64(101), np.int64(98), np.int64(79), np.int64(91), np.int64(81)], 'mean_shd': np.float64(89.1), 'variance_shd': np.float64(104.09)}, '/cim/ehoney/ift6168_project_v2/ift6168_project/data/perfect/data_p20_e20_n10000_linear_struct': {'shd_values': [np.int64(5), np.int64(4), np.int64(4), np.int64(2), np.int64(0), np.int64(9), np.int64(0), np.int64(2), np.int64(2), np.int64(11)], 'mean_shd': np.float64(3.9), 'variance_shd': np.float64(11.889999999999999)}, '/cim/ehoney/ift6168_project_v2/ift6168_project/data/perfect/data_p10_e10_n10000_nnadd_struct': {'shd_values': [np.int64(7), np.int64(14), np.int64(13), np.int64(6), np.int64(12), np.int64(15), np.int64(0), np.int64(27), np.int64(13), np.int64(8)], 'mean_shd': np.float64(11.5), 'variance_shd': np.float64(45.85)}, '/cim/ehoney/ift6168_project_v2/ift6168_project/data/perfect/data_p10_e40_n10000_nn_struct': {'shd_values': [np.int64(44), np.int64(41), np.int64(60), np.int64(44), np.int64(57), np.int64(43), np.int64(55), np.int64(51), np.int64(67), np.int64(57)], 'mean_shd': np.float64(51.9), 'variance_shd': np.float64(67.89)}, '/cim/ehoney/ift6168_project_v2/ift6168_project/data/perfect/data_p20_e20_n10000_nn_struct': {'shd_values': [np.int64(9), np.int64(27), np.int64(19), np.int64(16), np.int64(19), np.int64(15), np.int64(24), np.int64(17), np.int64(9), np.int64(13)], 'mean_shd': np.float64(16.8), 'variance_shd': np.float64(30.559999999999995)}, '/cim/ehoney/ift6168_project_v2/ift6168_project/data/perfect/data_p20_e80_n10000_nn_struct': {'shd_values': [np.int64(94), np.int64(89), np.int64(67), np.int64(91), np.int64(111), np.int64(81), np.int64(84), np.int64(105), np.int64(91), np.int64(80)], 'mean_shd': np.float64(89.3), 'variance_shd': np.float64(142.61)}, '/cim/ehoney/ift6168_project_v2/ift6168_project/data/perfect/data_p10_e40_n10000_linear_struct': {'shd_values': [np.int64(40), np.int64(44), np.int64(42), np.int64(50), np.int64(43), np.int64(56), np.int64(55), np.int64(43), np.int64(43), np.int64(38)], 'mean_shd': np.float64(45.4), 'variance_shd': np.float64(34.04)}, '/cim/ehoney/ift6168_project_v2/ift6168_project/data/perfect/data_p20_e80_n10000_linear_struct': {'shd_values': [np.int64(79), np.int64(103), np.int64(72), np.int64(91), np.int64(89), np.int64(102), np.int64(84), np.int64(93), np.int64(92), np.int64(96)], 'mean_shd': np.float64(90.1), 'variance_shd': np.float64(84.48999999999998)}, '/cim/ehoney/ift6168_project_v2/ift6168_project/data/perfect/data_p20_e20_n10000_nnadd_struct': {'shd_values': [np.int64(21), np.int64(38), np.int64(31), np.int64(20), np.int64(29), np.int64(14), np.int64(35), np.int64(31), np.int64(32), np.int64(10)], 'mean_shd': np.float64(26.1), 'variance_shd': np.float64(78.09)}, '/cim/ehoney/ift6168_project_v2/ift6168_project/data/perfect/data_p10_e10_n10000_nn_struct': {'shd_values': [np.int64(4), np.int64(13), np.int64(8), np.int64(11), np.int64(2), np.int64(3), np.int64(16), np.int64(5), np.int64(1), np.int64(13)], 'mean_shd': np.float64(7.6), 'variance_shd': np.float64(25.639999999999997)}}\n"
     ]
    }
   ],
   "source": [
    "# Dictionary to store SHD values and statistics for each data directory\n",
    "shd_stats_per_dir = {}\n",
    "\n",
    "# List of data directories to iterate through\n",
    "data_dirs = [\n",
    "    os.path.join('/cim/ehoney/ift6168_project_v2/ift6168_project/data/perfect', d)\n",
    "    for d in os.listdir('/cim/ehoney/ift6168_project_v2/ift6168_project/data/perfect')\n",
    "    if os.path.isdir(os.path.join('/cim/ehoney/ift6168_project_v2/ift6168_project/data/perfect', d))\n",
    "    and d != 'sachs_intervention' and not d.endswith('.zip')\n",
    "]\n",
    "\n",
    "# Iterate through each data directory\n",
    "for data_dir in data_dirs:\n",
    "    print(f\"Processing data directory: {data_dir}\")\n",
    "    \n",
    "    shd_values = []  # Reset SHD values for the current directory\n",
    "    \n",
    "    # Iterate through the 10 datasets in the current directory\n",
    "    for i in range(1, 11):\n",
    "        # Load the DAG, CPDAG, and observational data\n",
    "        dag_path = os.path.join(data_dir, f'DAG{i}.npy')\n",
    "        cpdag_path = os.path.join(data_dir, f'CPDAG{i}.npy')\n",
    "        obs_data_path = os.path.join(data_dir, f'data{i}.npy')\n",
    "        \n",
    "        dag = np.load(dag_path)\n",
    "        cpdag = np.load(cpdag_path)\n",
    "        obs_data = np.load(obs_data_path)\n",
    "        \n",
    "        # Estimate the CPDAG using the PC algorithm\n",
    "        cg = pc(obs_data)\n",
    "        \n",
    "        # Convert the estimated CPDAG to adjacency matrix format\n",
    "        estimated_cpdag = convert_cpdag_format(cg)\n",
    "        \n",
    "        # Compute the SHD\n",
    "        shd = np.sum(estimated_cpdag != cpdag)\n",
    "        shd_values.append(shd)\n",
    "        \n",
    "        # Print the SHD for the current dataset\n",
    "        print(f\"Dataset {i}: SHD = {shd}\")\n",
    "    \n",
    "    # Compute the mean and variance of SHD values for the current directory\n",
    "    mean_shd = np.mean(shd_values)\n",
    "    variance_shd = np.var(shd_values)\n",
    "    \n",
    "    # Store the full SHD values and statistics in the dictionary\n",
    "    shd_stats_per_dir[data_dir] = {\n",
    "        'shd_values': shd_values,\n",
    "        'mean_shd': mean_shd,\n",
    "        'variance_shd': variance_shd\n",
    "    }\n",
    "    \n",
    "    print(f\"Mean SHD for {data_dir}: {mean_shd}\")\n",
    "    print(f\"Variance of SHD for {data_dir}: {variance_shd}\")\n",
    "\n",
    "# Display the SHD statistics for all directories\n",
    "print(\"SHD Statistics per Data Directory:\")\n",
    "print(shd_stats_per_dir)\n"
   ]
  },
  {
   "cell_type": "code",
   "execution_count": 93,
   "id": "3c03ff7f",
   "metadata": {},
   "outputs": [
    {
     "data": {
      "text/plain": [
       "dict_keys(['/cim/ehoney/ift6168_project_v2/ift6168_project/data/perfect/data_p10_e40_n10000_nnadd_struct', '/cim/ehoney/ift6168_project_v2/ift6168_project/data/perfect/data_p10_e10_n10000_linear_struct', '/cim/ehoney/ift6168_project_v2/ift6168_project/data/perfect/data_p20_e80_n10000_nnadd_struct', '/cim/ehoney/ift6168_project_v2/ift6168_project/data/perfect/data_p20_e20_n10000_linear_struct', '/cim/ehoney/ift6168_project_v2/ift6168_project/data/perfect/data_p10_e10_n10000_nnadd_struct', '/cim/ehoney/ift6168_project_v2/ift6168_project/data/perfect/data_p10_e40_n10000_nn_struct', '/cim/ehoney/ift6168_project_v2/ift6168_project/data/perfect/data_p20_e20_n10000_nn_struct', '/cim/ehoney/ift6168_project_v2/ift6168_project/data/perfect/data_p20_e80_n10000_nn_struct', '/cim/ehoney/ift6168_project_v2/ift6168_project/data/perfect/data_p10_e40_n10000_linear_struct', '/cim/ehoney/ift6168_project_v2/ift6168_project/data/perfect/data_p20_e80_n10000_linear_struct', '/cim/ehoney/ift6168_project_v2/ift6168_project/data/perfect/data_p20_e20_n10000_nnadd_struct', '/cim/ehoney/ift6168_project_v2/ift6168_project/data/perfect/data_p10_e10_n10000_nn_struct'])"
      ]
     },
     "execution_count": 93,
     "metadata": {},
     "output_type": "execute_result"
    }
   ],
   "source": [
    "shd_stats_per_dir.keys()"
   ]
  },
  {
   "cell_type": "code",
   "execution_count": 98,
   "id": "1b097205",
   "metadata": {},
   "outputs": [
    {
     "name": "stderr",
     "output_type": "stream",
     "text": [
      "The 'labels' parameter of boxplot() has been renamed 'tick_labels' since Matplotlib 3.9; support for the old name will be dropped in 3.11.\n"
     ]
    },
    {
     "data": {
      "image/png": "[encoded data removed]",
      "text/plain": [
       "<Figure size 1000x600 with 1 Axes>"
      ]
     },
     "metadata": {},
     "output_type": "display_data"
    }
   ],
   "source": [
    "import matplotlib.pyplot as plt\n",
    "\n",
    "# Prepare data for plotting\n",
    "data_dirs = []\n",
    "for struct_type in ['linear_struct', 'nn_struct', 'nnadd_struct']:\n",
    "    for params in ['p10_e10', 'p10_e40', 'p20_e20', 'p20_e80']:\n",
    "        dir_name = os.path.join('/cim/ehoney/ift6168_project_v2/ift6168_project/data/perfect/', f'data_{params}_n10000_{struct_type}')\n",
    "        data_dirs.append(dir_name)\n",
    "short_data_dirs = [os.path.basename(dir) for dir in data_dirs]  # Extract key info from paths\n",
    "shd_values_per_dir = [shd_stats_per_dir[dir]['shd_values'] for dir in data_dirs]  # Use SHD values for boxplot\n",
    "\n",
    "# Calculate group boundaries\n",
    "group_boundaries = [i * 4 for i in range(1, len(['linear_struct', 'nn_struct', 'nnadd_struct']))]\n",
    "\n",
    "# Create the plot\n",
    "plt.figure(figsize=(10, 6))\n",
    "plt.boxplot(shd_values_per_dir, labels=short_data_dirs, patch_artist=True, boxprops=dict(facecolor='skyblue', alpha=0.7))\n",
    "\n",
    "# Add vertical lines between groups\n",
    "for boundary in group_boundaries:\n",
    "    plt.axvline(x=boundary + 0.5, color='grey', linestyle='--', linewidth=1, alpha=0.5)\n",
    "\n",
    "plt.xlabel('Data Directory', fontsize=12)\n",
    "plt.ylabel('SHD', fontsize=12)\n",
    "plt.title('Box and Whisker Plot of SHD for Each Data Directory', fontsize=14)\n",
    "plt.xticks(rotation=45, ha='right')\n",
    "plt.tight_layout()\n",
    "\n",
    "# Show the plot\n",
    "plt.show()"
   ]
  }
 ],
 "metadata": {
  "kernelspec": {
   "display_name": "venv",
   "language": "python",
   "name": "python3"
  },
  "language_info": {
   "codemirror_mode": {
    "name": "ipython",
    "version": 3
   },
   "file_extension": ".py",
   "mimetype": "text/x-python",
   "name": "python",
   "nbconvert_exporter": "python",
   "pygments_lexer": "ipython3",
   "version": "3.10.14"
  }
 },
 "nbformat": 4,
 "nbformat_minor": 5
}
